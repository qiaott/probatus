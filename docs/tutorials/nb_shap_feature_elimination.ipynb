{
 "cells": [
  {
   "cell_type": "markdown",
   "metadata": {},
   "source": [
    "# ShapRFECV - Recursive Feature Elimination using SHAP importance\n",
    "\n",
    "[![open in colab](https://colab.research.google.com/assets/colab-badge.svg)](https://colab.research.google.com/github/ing-bank/probatus/blob/master/docs/tutorials/nb_shap_feature_elimination.ipynb)\n",
    "\n",
    "Recursive Feature Elimination allows to efficiently reduce the number of features in your dataset, without losing the predictive power of the model. `probatus` implements the following feature elimination routine for **tree-based models**:\n",
    "\n",
    "\n",
    "    While any features left, iterate:\n",
    "        1. (Optional) Tune hyperparameters, in case `GridSearchCV` or `RandomSearchCV` are provided as estimators,\n",
    "        2. Calculate SHAP feature importance using Cross-Validation,\n",
    "        3. Remove `step` lowest importance features.\n",
    "\n",
    "\n",
    "The functionality is similar to [RFECV](https://scikit-learn.org/stable/modules/generated/sklearn.feature_selection.RFECV.html), yet, it removes the lowest importance features, based on SHAP features importance. It also supports the use of [GridSearchCV](https://scikit-learn.org/stable/modules/generated/sklearn.model_selection.GridSearchCV.html) and [RandomizedSearchCV](https://scikit-learn.org/stable/modules/generated/sklearn.model_selection.RandomizedSearchCV.html) passed as a `clf`, thanks to which you can perform hyperparameter optimization at each step of the search.\n",
    "hyperparameters of the model at each round, to tune the model for each features set. Lastly, it supports categorical features (`object` and `category` dtype) and missing values in the data, as long as the model supports them.\n",
    " \n",
    "The main advantages of using this routine are:\n",
    "\n",
    "- It uses a tree-based model to detect the complex relations between features and the target.\n",
    "- It uses SHAP importance, which is one of the most reliable ways to estimate features importance. Unlike many other techniques, it works with missing values and categorical variables.\n",
    "- Supports the use of [GridSearchCV](https://scikit-learn.org/stable/modules/generated/sklearn.model_selection.GridSearchCV.html) and [RandomizedSearchCV](https://scikit-learn.org/stable/modules/generated/sklearn.model_selection.RandomizedSearchCV.html) in order to optimize hyperparameters at each iteration. This way you can assess if the removal of a given feature reduces the predictive power, or simply requires additional tuning of the model.\n",
    "\n",
    "The disadvantages are:\n",
    "\n",
    "- Removing lowest [SHAP](https://shap.readthedocs.io/en/latest/) importance feature does not always translate to choosing the feature with lowest impact on model's performance. Shap importance illustrates how strongly a given feature affects the output of the model, while disregarding correctness of this prediction.\n",
    "- Currently, the functionality only supports tree-based binary classifiers, in the future the scope might be extended.\n",
    "\n",
    "## Setup the dataset\n",
    "\n",
    "In order to use the functionality, let's set up an example dataset with:\n",
    "\n",
    "- 17 numerical features\n",
    "- 1 categorical feature\n",
    "- 1 static feature\n",
    "- 1 static feature\n",
    "- 1 feature with missing values"
   ]
  },
  {
   "cell_type": "code",
   "execution_count": 2,
   "metadata": {},
   "outputs": [],
   "source": [
    "from probatus.feature_elimination import ShapRFECV\n",
    "from sklearn.datasets import make_classification\n",
    "from sklearn.model_selection import train_test_split\n",
    "import numpy as np\n",
    "import pandas as pd\n",
    "import lightgbm\n",
    "from sklearn.model_selection import RandomizedSearchCV\n",
    " \n",
    "feature_names = ['f1_categorical', 'f2_missing', 'f3_static', 'f4', 'f5', 'f6', 'f7', 'f8', 'f9', 'f10', 'f11', 'f12', 'f13', 'f14', 'f15', 'f16', 'f17', 'f18', 'f19', 'f20']\n",
    " \n",
    "# Prepare two samples\n",
    "X, y = make_classification(n_samples=1000, class_sep=0.05, n_informative=6, n_features=20,\n",
    "                           random_state=0, n_redundant=10, n_clusters_per_class=1)\n",
    "X = pd.DataFrame(X, columns=feature_names)\n",
    "X['f1_categorical'] = X['f1_categorical'].apply(lambda x: str(np.round(x*10)))\n",
    "X['f2_missing'] = X['f2_missing'].apply(lambda x: x if np.random.rand()<0.8 else np.nan)\n",
    "X['f3_static'] = 0"
   ]
  },
  {
   "cell_type": "code",
   "execution_count": 3,
   "metadata": {},
   "outputs": [
    {
     "data": {
      "text/html": [
       "<div>\n",
       "<style scoped>\n",
       "    .dataframe tbody tr th:only-of-type {\n",
       "        vertical-align: middle;\n",
       "    }\n",
       "\n",
       "    .dataframe tbody tr th {\n",
       "        vertical-align: top;\n",
       "    }\n",
       "\n",
       "    .dataframe thead th {\n",
       "        text-align: right;\n",
       "    }\n",
       "</style>\n",
       "<table border=\"1\" class=\"dataframe\">\n",
       "  <thead>\n",
       "    <tr style=\"text-align: right;\">\n",
       "      <th></th>\n",
       "      <th>f1_categorical</th>\n",
       "      <th>f2_missing</th>\n",
       "      <th>f3_static</th>\n",
       "      <th>f4</th>\n",
       "      <th>f5</th>\n",
       "    </tr>\n",
       "  </thead>\n",
       "  <tbody>\n",
       "    <tr>\n",
       "      <th>0</th>\n",
       "      <td>34.0</td>\n",
       "      <td>-3.902230</td>\n",
       "      <td>0</td>\n",
       "      <td>0.037207</td>\n",
       "      <td>-0.211075</td>\n",
       "    </tr>\n",
       "    <tr>\n",
       "      <th>1</th>\n",
       "      <td>-25.0</td>\n",
       "      <td>0.772855</td>\n",
       "      <td>0</td>\n",
       "      <td>0.302824</td>\n",
       "      <td>0.729950</td>\n",
       "    </tr>\n",
       "    <tr>\n",
       "      <th>2</th>\n",
       "      <td>-7.0</td>\n",
       "      <td>1.350847</td>\n",
       "      <td>0</td>\n",
       "      <td>1.837895</td>\n",
       "      <td>-0.745689</td>\n",
       "    </tr>\n",
       "    <tr>\n",
       "      <th>3</th>\n",
       "      <td>-53.0</td>\n",
       "      <td>NaN</td>\n",
       "      <td>0</td>\n",
       "      <td>-1.277930</td>\n",
       "      <td>3.688404</td>\n",
       "    </tr>\n",
       "    <tr>\n",
       "      <th>4</th>\n",
       "      <td>-10.0</td>\n",
       "      <td>NaN</td>\n",
       "      <td>0</td>\n",
       "      <td>-0.576209</td>\n",
       "      <td>-0.790525</td>\n",
       "    </tr>\n",
       "  </tbody>\n",
       "</table>\n",
       "</div>"
      ],
      "text/plain": [
       "  f1_categorical  f2_missing  f3_static        f4        f5\n",
       "0           34.0   -3.902230          0  0.037207 -0.211075\n",
       "1          -25.0    0.772855          0  0.302824  0.729950\n",
       "2           -7.0    1.350847          0  1.837895 -0.745689\n",
       "3          -53.0         NaN          0 -1.277930  3.688404\n",
       "4          -10.0         NaN          0 -0.576209 -0.790525"
      ]
     },
     "execution_count": 3,
     "metadata": {},
     "output_type": "execute_result"
    }
   ],
   "source": [
    "#First 5 rows of first 5 columns\n",
    "X[feature_names[:5]].head()"
   ]
  },
  {
   "cell_type": "markdown",
   "metadata": {},
   "source": [
    "## Set up the model and model tuning\n",
    "\n",
    "You need to set up the model that you would like to use in the feature elimination. `probatus` requires a **tree-based binary classifier** in order to speed up the computation of SHAP feature importance at each step. \n",
    "We recommend using [LGBMClassifier](https://lightgbm.readthedocs.io/en/latest/pythonapi/lightgbm.LGBMClassifier.html), which by default handles missing values and categorical features.\n",
    "\n",
    "The example below applies randomized search in order to optimize the hyperparameters of the model at each iteration of the search."
   ]
  },
  {
   "cell_type": "code",
   "execution_count": 4,
   "metadata": {},
   "outputs": [],
   "source": [
    "clf = lightgbm.LGBMClassifier(max_depth=5, class_weight='balanced')\n",
    "\n",
    "param_grid = {\n",
    "    'n_estimators': [5, 7, 10],\n",
    "    'num_leaves': [3, 5, 7, 10],\n",
    "}\n",
    "search = RandomizedSearchCV(clf, param_grid)\n"
   ]
  },
  {
   "cell_type": "markdown",
   "metadata": {},
   "source": [
    "## Apply ShapRFECV\n",
    "\n",
    "Now let's apply the [ShapRFECV](https://ing-bank.github.io/probatus/api/feature_elimination.html)."
   ]
  },
  {
   "cell_type": "code",
   "execution_count": 5,
   "metadata": {},
   "outputs": [],
   "source": [
    "shap_elimination = ShapRFECV(\n",
    "    clf=search, step=0.2, cv=10, scoring='roc_auc', n_jobs=3)\n",
    "report = shap_elimination.fit_compute(X, y)"
   ]
  },
  {
   "cell_type": "markdown",
   "metadata": {},
   "source": [
    "At the end of the process, you can investigate the results for each iteration."
   ]
  },
  {
   "cell_type": "code",
   "execution_count": 6,
   "metadata": {},
   "outputs": [
    {
     "data": {
      "text/html": [
       "<div>\n",
       "<style scoped>\n",
       "    .dataframe tbody tr th:only-of-type {\n",
       "        vertical-align: middle;\n",
       "    }\n",
       "\n",
       "    .dataframe tbody tr th {\n",
       "        vertical-align: top;\n",
       "    }\n",
       "\n",
       "    .dataframe thead th {\n",
       "        text-align: right;\n",
       "    }\n",
       "</style>\n",
       "<table border=\"1\" class=\"dataframe\">\n",
       "  <thead>\n",
       "    <tr style=\"text-align: right;\">\n",
       "      <th></th>\n",
       "      <th>num_features</th>\n",
       "      <th>features_set</th>\n",
       "      <th>val_metric_mean</th>\n",
       "    </tr>\n",
       "  </thead>\n",
       "  <tbody>\n",
       "    <tr>\n",
       "      <th>1</th>\n",
       "      <td>20</td>\n",
       "      <td>[f1_categorical, f2_missing, f3_static, f4, f5...</td>\n",
       "      <td>0.905</td>\n",
       "    </tr>\n",
       "    <tr>\n",
       "      <th>2</th>\n",
       "      <td>16</td>\n",
       "      <td>[f20, f16, f13, f8, f12, f18, f11, f5, f15, f1...</td>\n",
       "      <td>0.916</td>\n",
       "    </tr>\n",
       "    <tr>\n",
       "      <th>3</th>\n",
       "      <td>13</td>\n",
       "      <td>[f20, f16, f8, f11, f18, f5, f15, f10, f9, f19...</td>\n",
       "      <td>0.905</td>\n",
       "    </tr>\n",
       "    <tr>\n",
       "      <th>4</th>\n",
       "      <td>11</td>\n",
       "      <td>[f1_categorical, f20, f16, f5, f15, f10, f9, f...</td>\n",
       "      <td>0.911</td>\n",
       "    </tr>\n",
       "    <tr>\n",
       "      <th>5</th>\n",
       "      <td>9</td>\n",
       "      <td>[f20, f16, f5, f15, f9, f19, f14, f8, f1_categ...</td>\n",
       "      <td>0.901</td>\n",
       "    </tr>\n",
       "    <tr>\n",
       "      <th>6</th>\n",
       "      <td>8</td>\n",
       "      <td>[f16, f5, f15, f9, f19, f14, f8, f1_categorical]</td>\n",
       "      <td>0.911</td>\n",
       "    </tr>\n",
       "    <tr>\n",
       "      <th>7</th>\n",
       "      <td>7</td>\n",
       "      <td>[f16, f5, f15, f9, f19, f14, f1_categorical]</td>\n",
       "      <td>0.901</td>\n",
       "    </tr>\n",
       "    <tr>\n",
       "      <th>8</th>\n",
       "      <td>6</td>\n",
       "      <td>[f16, f15, f9, f19, f14, f1_categorical]</td>\n",
       "      <td>0.900</td>\n",
       "    </tr>\n",
       "    <tr>\n",
       "      <th>9</th>\n",
       "      <td>5</td>\n",
       "      <td>[f16, f15, f9, f19, f1_categorical]</td>\n",
       "      <td>0.883</td>\n",
       "    </tr>\n",
       "    <tr>\n",
       "      <th>10</th>\n",
       "      <td>4</td>\n",
       "      <td>[f19, f1_categorical, f16, f9]</td>\n",
       "      <td>0.868</td>\n",
       "    </tr>\n",
       "    <tr>\n",
       "      <th>11</th>\n",
       "      <td>3</td>\n",
       "      <td>[f19, f16, f9]</td>\n",
       "      <td>0.868</td>\n",
       "    </tr>\n",
       "    <tr>\n",
       "      <th>12</th>\n",
       "      <td>2</td>\n",
       "      <td>[f19, f16]</td>\n",
       "      <td>0.818</td>\n",
       "    </tr>\n",
       "    <tr>\n",
       "      <th>13</th>\n",
       "      <td>1</td>\n",
       "      <td>[f16]</td>\n",
       "      <td>0.720</td>\n",
       "    </tr>\n",
       "  </tbody>\n",
       "</table>\n",
       "</div>"
      ],
      "text/plain": [
       "    num_features                                       features_set  \\\n",
       "1             20  [f1_categorical, f2_missing, f3_static, f4, f5...   \n",
       "2             16  [f20, f16, f13, f8, f12, f18, f11, f5, f15, f1...   \n",
       "3             13  [f20, f16, f8, f11, f18, f5, f15, f10, f9, f19...   \n",
       "4             11  [f1_categorical, f20, f16, f5, f15, f10, f9, f...   \n",
       "5              9  [f20, f16, f5, f15, f9, f19, f14, f8, f1_categ...   \n",
       "6              8   [f16, f5, f15, f9, f19, f14, f8, f1_categorical]   \n",
       "7              7       [f16, f5, f15, f9, f19, f14, f1_categorical]   \n",
       "8              6           [f16, f15, f9, f19, f14, f1_categorical]   \n",
       "9              5                [f16, f15, f9, f19, f1_categorical]   \n",
       "10             4                     [f19, f1_categorical, f16, f9]   \n",
       "11             3                                     [f19, f16, f9]   \n",
       "12             2                                         [f19, f16]   \n",
       "13             1                                              [f16]   \n",
       "\n",
       "    val_metric_mean  \n",
       "1             0.905  \n",
       "2             0.916  \n",
       "3             0.905  \n",
       "4             0.911  \n",
       "5             0.901  \n",
       "6             0.911  \n",
       "7             0.901  \n",
       "8             0.900  \n",
       "9             0.883  \n",
       "10            0.868  \n",
       "11            0.868  \n",
       "12            0.818  \n",
       "13            0.720  "
      ]
     },
     "execution_count": 6,
     "metadata": {},
     "output_type": "execute_result"
    }
   ],
   "source": [
    "#First 5 rows of first 5 columns\n",
    "report[['num_features', 'features_set', 'val_metric_mean']]"
   ]
  },
  {
   "cell_type": "markdown",
   "metadata": {},
   "source": [
    "Once the process is completed, you can visualize the results. \n",
    "\n",
    "Let's investigate the performance plot. In this case, the Validation AUC score has a peak at 11 features."
   ]
  },
  {
   "cell_type": "code",
   "execution_count": 7,
   "metadata": {},
   "outputs": [
    {
     "data": {
      "image/png": "[encoded data removed]",
      "text/plain": [
       "<Figure size 432x288 with 1 Axes>"
      ]
     },
     "metadata": {
      "needs_background": "light"
     },
     "output_type": "display_data"
    }
   ],
   "source": [
    "performance_plot = shap_elimination.plot()"
   ]
  },
  {
   "cell_type": "markdown",
   "metadata": {},
   "source": [
    "Let's see the final feature set:"
   ]
  },
  {
   "cell_type": "code",
   "execution_count": 7,
   "metadata": {},
   "outputs": [
    {
     "data": {
      "text/plain": [
       "['f14', 'f16', 'f19', 'f15', 'f1_categorical', 'f9', 'f5', 'f20', 'f8']"
      ]
     },
     "execution_count": 7,
     "metadata": {},
     "output_type": "execute_result"
    }
   ],
   "source": [
    "shap_elimination.get_reduced_features_set(num_features=11)"
   ]
  },
  {
   "cell_type": "markdown",
   "metadata": {},
   "source": [
    "## ShapRFECV vs RFECV"
   ]
  },
  {
   "cell_type": "markdown",
   "metadata": {},
   "source": [
    "In this section we will compare the performance of the model trained on the features selected using the probatus [ShapRFECV](https://ing-bank.github.io/probatus/api/feature_elimination.html) and the [sklearn RFECV](https://scikit-learn.org/stable/modules/generated/sklearn.feature_selection.RFECV.html).\n",
    "\n",
    "In order to compare them let's first prepare a dataset, and a model that will be applied:"
   ]
  },
  {
   "cell_type": "code",
   "execution_count": 13,
   "metadata": {},
   "outputs": [],
   "source": [
    "from probatus.feature_elimination import ShapRFECV\n",
    "import numpy as np\n",
    "import pandas as pd\n",
    "import lightgbm\n",
    "from sklearn.datasets import make_classification\n",
    "from sklearn.model_selection import train_test_split, cross_val_score\n",
    "from sklearn.feature_selection import RFECV\n",
    "import matplotlib.pyplot as plt\n",
    "\n",
    "# Prepare train and test data:\n",
    "X, y = make_classification(n_samples=10000, class_sep=0.1, n_informative=40, n_features=50,\n",
    "                           random_state=0, n_clusters_per_class=10)\n",
    "X = pd.DataFrame(X)\n",
    "X_train, X_test, y_train, y_test = train_test_split(X, y, test_size=0.5, random_state=42)\n",
    "\n",
    "# Set up the model:\n",
    "clf = lightgbm.LGBMClassifier(n_estimators=10, num_leaves=7)"
   ]
  },
  {
   "cell_type": "markdown",
   "metadata": {},
   "source": [
    "Now, we can run ShapRFECV and RFECV with the same parameters, to extract the optimal feature sets:"
   ]
  },
  {
   "cell_type": "code",
   "execution_count": 15,
   "metadata": {},
   "outputs": [
    {
     "data": {
      "image/png": "[encoded data removed]",
      "text/plain": [
       "<Figure size 720x360 with 1 Axes>"
      ]
     },
     "metadata": {
      "needs_background": "light"
     },
     "output_type": "display_data"
    }
   ],
   "source": [
    "# Run RFECV and ShapRFECV with the same parameters\n",
    "rfe = RFECV(clf, step=1, cv=10, scoring='roc_auc', n_jobs=3).fit(X_train, y_train)\n",
    "shap_elimination = ShapRFECV(clf=clf, step=1, cv=10, scoring='roc_auc', n_jobs=3)\n",
    "shap_report = shap_elimination.fit_compute(X_train, y_train)\n",
    "\n",
    "# Compare the CV Validation AUC for different number of features in each method.\n",
    "ax = pd.DataFrame({'RFECV Validation AUC': list(reversed(rfe.grid_scores_)),\n",
    "                   'ShapRFECV Validation AUC': shap_report['val_metric_mean'].values.tolist()}, \n",
    "                 index=shap_report['num_features'].values.tolist()).plot(ylim=(0.5, 0.6), rot=10, title='Comparison of RFECV and ShapRFECV', figsize=(10,5))\n",
    "ax.set_ylabel(\"Model Performance\")\n",
    "ax.set_xlabel(\"Number of features\")\n",
    "ax.invert_xaxis()\n",
    "plt.show()"
   ]
  },
  {
   "cell_type": "markdown",
   "metadata": {},
   "source": [
    "The plot above presents the averaged CV Validation AUC of model performance for each round of the RFE process in both ShapRFECV and RFECV. The optimal number of features is 21 for the former, and 13 for the latter.\n",
    "\n",
    "Now we will compare the performance of the model trained on:\n",
    "\n",
    "- All 50 available features (baseline),\n",
    "- 13 features selected by RFECV (final),\n",
    "- 21 features selected by ShapRFECV (final),\n",
    "- 13 feature selected by ShapRFECV (baseline)."
   ]
  },
  {
   "cell_type": "code",
   "execution_count": 17,
   "metadata": {},
   "outputs": [
    {
     "data": {
      "image/png": "[encoded data removed]",
      "text/plain": [
       "<Figure size 720x360 with 1 Axes>"
      ]
     },
     "metadata": {
      "needs_background": "light"
     },
     "output_type": "display_data"
    }
   ],
   "source": [
    "n_features_shap = 21\n",
    "n_features_rfecv = rfe.n_features_\n",
    "\n",
    "# Calculate the AUC for the models with different feature sets\n",
    "test_auc_full = clf.fit(X_train, y_train).score(X_test, y_test)\n",
    "val_auc_full =  np.mean(cross_val_score(clf, X_train, y_train, cv=10))\n",
    "\n",
    "rfe_features_set = X_train.columns[rfe.support_]\n",
    "test_auc_rfe = clf.fit(X_train[rfe_features_set], y_train).score(X_test[rfe_features_set], y_test)\n",
    "val_auc_rfe = rfe.grid_scores_[n_features_rfecv]\n",
    "\n",
    "shap_feature_set = X_train.columns[shap_elimination.get_reduced_features_set(n_features_shap)]\n",
    "test_auc_shap = clf.fit(X_train[shap_feature_set], y_train).score(X_test[shap_feature_set], y_test)\n",
    "val_auc_shap = shap_report[shap_report.num_features == n_features_shap]['val_metric_mean'].values[0]\n",
    "\n",
    "shap_feature_set_size_rfe = X_train.columns[shap_elimination.get_reduced_features_set(n_features_rfecv)]\n",
    "test_auc_shap_size_rfe = clf.fit(X_train[shap_feature_set_size_rfe], y_train).score(X_test[shap_feature_set_size_rfe], y_test)\n",
    "val_auc_shap_size_rfe = shap_report[shap_report.num_features == n_features_rfecv]['val_metric_mean'].values[0]\n",
    "\n",
    "# Plot Test and Validation Performance\n",
    "variants = ('All 50 features', f'RFECV {n_features_rfecv} features', f'ShapRFECV {n_features_shap} features', f'ShapRFECV {n_features_rfecv} features')\n",
    "results_test = [test_auc_full, test_auc_rfe, test_auc_shap, test_auc_shap_size_rfe]\n",
    "results_val = [val_auc_full, val_auc_rfe, val_auc_shap, val_auc_shap_size_rfe]\n",
    "\n",
    "ax = pd.DataFrame({'CV Validation AUC': results_val,\n",
    "                   'Test AUC': results_test}, index=variants).plot.bar(ylim=(0.5, 0.60), rot=10, title='Comparison of RFECV and ShapRFECV', figsize=(10,5))\n",
    "ax.set_ylabel(\"Model Performance\")\n",
    "plt.show()"
   ]
  },
  {
   "cell_type": "markdown",
   "metadata": {},
   "source": [
    "As shown in the plot, ShapRFECV provides superior results for both: CV Validation and Test AUC, compared to RFECV and the baseline model with all the available features. Not only the introduced method allows to eliminate features without the loss in performance, but also it may increase the performance of the model.\n",
    "\n",
    "When it comes to time required to perform the feature selection in the experiment above, RFECV takes 6.11 s ± 33.7 ms, while ShapRFECV takes 10.1 s ± 72.8 mss, which shows that the latter is more computation expensive, due to SHAP values calculation."
   ]
  }
 ],
 "metadata": {
  "kernelspec": {
   "display_name": "Python 3",
   "language": "python",
   "name": "python3"
  },
  "language_info": {
   "codemirror_mode": {
    "name": "ipython",
    "version": 3
   },
   "file_extension": ".py",
   "mimetype": "text/x-python",
   "name": "python",
   "nbconvert_exporter": "python",
   "pygments_lexer": "ipython3",
   "version": "3.8.5"
  }
 },
 "nbformat": 4,
 "nbformat_minor": 4
}
